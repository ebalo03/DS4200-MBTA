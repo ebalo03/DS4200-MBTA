{
 "cells": [
  {
   "cell_type": "code",
   "execution_count": 1,
   "id": "dbf4297b-c94b-4c09-bd78-138a0a90b885",
   "metadata": {},
   "outputs": [
    {
     "ename": "ModuleNotFoundError",
     "evalue": "No module named 'matplotlib'",
     "output_type": "error",
     "traceback": [
      "\u001b[1;31m---------------------------------------------------------------------------\u001b[0m",
      "\u001b[1;31mModuleNotFoundError\u001b[0m                       Traceback (most recent call last)",
      "Cell \u001b[1;32mIn[1], line 3\u001b[0m\n\u001b[0;32m      1\u001b[0m \u001b[38;5;28;01mimport\u001b[39;00m \u001b[38;5;21;01mpandas\u001b[39;00m \u001b[38;5;28;01mas\u001b[39;00m \u001b[38;5;21;01mpd\u001b[39;00m\n\u001b[0;32m      2\u001b[0m \u001b[38;5;28;01mimport\u001b[39;00m \u001b[38;5;21;01maltair\u001b[39;00m \u001b[38;5;28;01mas\u001b[39;00m \u001b[38;5;21;01malt\u001b[39;00m\n\u001b[1;32m----> 3\u001b[0m \u001b[38;5;28;01mimport\u001b[39;00m \u001b[38;5;21;01mmatplotlib\u001b[39;00m\u001b[38;5;21;01m.\u001b[39;00m\u001b[38;5;21;01mpyplot\u001b[39;00m \u001b[38;5;28;01mas\u001b[39;00m \u001b[38;5;21;01mplt\u001b[39;00m\n",
      "\u001b[1;31mModuleNotFoundError\u001b[0m: No module named 'matplotlib'"
     ]
    }
   ],
   "source": [
    "import pandas as pd\n",
    "import altair as alt\n",
    "import matplotlib.pyplot as plt"
   ]
  },
  {
   "cell_type": "code",
   "execution_count": null,
   "id": "a2b3b5fa-109f-4429-a61b-9edd34faaa40",
   "metadata": {},
   "outputs": [],
   "source": [
    "# Combine speed restriction data for 2025\n",
    "jan_speed_restrictions = pd.read_csv('2025-01_Speed_Restrictions_By_Day.csv')\n",
    "feb_speed_restrictions = pd.read_csv('2025-02_Speed_Restrictions_By_Day.csv')\n",
    "\n",
    "combined_speed_restrictions = pd.concat([jan_speed_restrictions, feb_speed_restrictions])\n",
    "\n",
    "# fix dates\n",
    "combined_speed_restrictions['Calendar_Date'] = pd.to_datetime(combined_speed_restrictions['Calendar_Date'])\\\n",
    "\n",
    "# Group to get restriction count\n",
    "grouped_speed_restrictions = combined_speed_restrictions.groupby(by=\"Branch\", as_index=False)[\"Restriction_Days_Active_On_Calendar_Day\"].sum()\n",
    "grouped_speed_restrictions"
   ]
  },
  {
   "cell_type": "code",
   "execution_count": null,
   "id": "6c4b3848-f58f-486e-aac3-5ea855ffd52b",
   "metadata": {},
   "outputs": [],
   "source": [
    "# bar plot (frequency of speed restictions by line)\n",
    "colors = ['blue', 'green', 'green', 'green', 'darkorange', 'darkred', 'darkred', 'darkred']\n",
    "plt.bar(grouped_speed_restrictions['Branch'], grouped_speed_restrictions['Restriction_Days_Active_On_Calendar_Day'], color = colors)\n",
    "plt.ylabel(\"Number of Days with Speed Restriction\")\n",
    "plt.xlabel(\"Line\")\n",
    "plt.xticks(rotation=50)\n",
    "plt.title(\"Reported Speed Restrictions by Line in 2025\")"
   ]
  },
  {
   "cell_type": "code",
   "execution_count": null,
   "id": "5a8d3828-c7b4-49f6-9dd8-a01dc3cf5f11",
   "metadata": {},
   "outputs": [],
   "source": [
    "ridership_data = pd.read_csv('MBTA_Monthly_Ridership_By_Mode_and_Line.csv')\n",
    "\n",
    "# fix dates (remove times)\n",
    "ridership_data['month_of_service'] = pd.to_datetime(ridership_data['month_of_service'])\n",
    "\n",
    "# exclude missing ridership data\n",
    "filtered_ridership = ridership_data[pd.notnull(ridership_data.ridership_total)]\n",
    "filtered_ridership = filtered_ridership[filtered_ridership.daytype == \"Total\"]\n",
    "\n",
    "# filter by most popular lines\n",
    "pop_lines = ['Bus', 'Commuter Rail', 'Green Line', 'Orange Line', 'Red Line', 'Silver Line', 'Blue Line']\n",
    "filtered_ridership = filtered_ridership[filtered_ridership['route_or_line'].isin(pop_lines)]\n",
    "\n",
    "filtered_ridership"
   ]
  },
  {
   "cell_type": "code",
   "execution_count": null,
   "id": "d8d38e0e-463d-4127-bffe-deb31950f68e",
   "metadata": {
    "scrolled": true
   },
   "outputs": [],
   "source": [
    "# Ridership Line Plot\n",
    "# Create a selection widget for filtering\n",
    "line_selection = alt.selection_multi(fields=['route_or_line'], bind='legend')\n",
    "\n",
    "# Changing colors to match line\n",
    "color_scale = alt.Scale(domain=pop_lines,\n",
    "                        range=['goldenrod', 'purple', 'green', 'darkorange', 'red', 'silver', 'blue']) \n",
    "\n",
    "alt.Chart(filtered_ridership).mark_line().encode(\n",
    "    alt.X('month_of_service:T', title=\"Month of Service\", axis=alt.Axis(format=\"%b %Y\")),\n",
    "    alt.Y('ridership_total:Q', title=\"Total Ridership\"),\n",
    "    color=alt.Color('route_or_line:N', scale=color_scale, legend=alt.Legend(title=\"Route or Line\")),\n",
    "    tooltip=['month_of_service:T', 'ridership_total:Q', 'route_or_line:N'],\n",
    "    opacity=alt.condition(line_selection, alt.value(1), alt.value(0.1))\n",
    ").properties(\n",
    "    width = 400, height = 400,\n",
    "    title=\"Ridership Over Time\"\n",
    ").add_selection(\n",
    "    line_selection\n",
    ")"
   ]
  },
  {
   "cell_type": "code",
   "execution_count": null,
   "id": "9bcc4225-391d-4055-bdaa-94c52b4a2217",
   "metadata": {},
   "outputs": [],
   "source": []
  }
 ],
 "metadata": {
  "kernelspec": {
   "display_name": "Python 3 (ipykernel)",
   "language": "python",
   "name": "python3"
  },
  "language_info": {
   "codemirror_mode": {
    "name": "ipython",
    "version": 3
   },
   "file_extension": ".py",
   "mimetype": "text/x-python",
   "name": "python",
   "nbconvert_exporter": "python",
   "pygments_lexer": "ipython3",
   "version": "3.11.9"
  }
 },
 "nbformat": 4,
 "nbformat_minor": 5
}
