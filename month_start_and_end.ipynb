{
 "cells": [
  {
   "cell_type": "code",
   "execution_count": 1,
   "id": "eb911206-1052-466a-b650-ff07d44773d4",
   "metadata": {
    "tags": []
   },
   "outputs": [],
   "source": [
    "import pandas as pd\n",
    "import altair as alt\n",
    "import glob"
   ]
  },
  {
   "cell_type": "code",
   "execution_count": 2,
   "id": "8fd95f03-59ae-4976-b915-a65b861cf444",
   "metadata": {},
   "outputs": [],
   "source": [
    "# Path to the folder containing CSV files\n",
    "path = \"speed_restrictions\"\n",
    "\n",
    "# Get a list of all CSV files in the folder\n",
    "csv_files = glob.glob(path + \"/*.csv\")\n",
    "\n",
    "# Read each CSV file and store them in a list\n",
    "dfs = [pd.read_csv(file) for file in csv_files]\n",
    "\n",
    "# Concatenate all DataFrames into one\n",
    "full_df = pd.concat(dfs, ignore_index=True)\n",
    "full_df[\"Restriction_Speed_MPH\"] = full_df[\"Restriction_Speed_MPH\"].str.extract(r\"(\\d+)\").astype(int)\n",
    "\n",
    "# Convert Calendar_Date to datetime format\n",
    "full_df[\"Calendar_Date\"] = pd.to_datetime(full_df[\"Calendar_Date\"], errors=\"coerce\")\n",
    "\n",
    "# Create a 'Year-Month' column for grouping (YYYY-MM format)\n",
    "full_df[\"Year-Month\"] = full_df[\"Calendar_Date\"].dt.to_period(\"M\").astype(str)"
   ]
  },
  {
   "cell_type": "code",
   "execution_count": 7,
   "id": "0af642d7-d7a6-4879-a027-6dc4360ae6d2",
   "metadata": {},
   "outputs": [],
   "source": [
    "import altair as alt\n",
    "import pandas as pd\n",
    "\n",
    "# Group by 'Year-Month' and calculate the sum of new and cleared restrictions\n",
    "monthly_restriction_counts = full_df.groupby([\"Year-Month\"]).agg(\n",
    "    start_restrictions=(\"Month_Restriction_Count_Start\", \"sum\"),\n",
    "    end_restrictions=(\"Month_Restriction_Count_End\", \"sum\")\n",
    ").reset_index()\n",
    "\n",
    "\n",
    "monthly_restriction_counts_melted = pd.melt(\n",
    "    monthly_restriction_counts,\n",
    "    id_vars=[\"Year-Month\"],\n",
    "    value_vars=[\"start_restrictions\", \"end_restrictions\"],\n",
    "    var_name=\"restriction_type\",\n",
    "    value_name=\"count\"\n",
    ")\n",
    "\n",
    "monthly_restriction_counts_melted[\"restriction_type\"] = (\n",
    "    monthly_restriction_counts_melted[\"restriction_type\"]\n",
    "    .replace({\n",
    "        \"start_restrictions\": \"Restrictions at Start of the Month\",\n",
    "        \"end_restrictions\": \"Restrictions by End of the Month\"\n",
    "    })\n",
    ")\n",
    "\n",
    "# Create the stacked bar chart\n",
    "stacked_bar = alt.Chart(monthly_restriction_counts_melted).mark_bar().encode(\n",
    "    x=alt.X(\"Year-Month:N\", title=\"Month\", axis=alt.Axis(labelAngle=45)),\n",
    "    y=alt.Y(\"count:Q\", title=\"Number of Restrictions\"),\n",
    "    color=alt.Color(\n",
    "        \"restriction_type:N\", \n",
    "        title=\"Restriction Type\", \n",
    "        scale=alt.Scale(\n",
    "        domain=[\n",
    "            \"Restrictions at Start of the Month\",\n",
    "            \"Restrictions by End of the Month\"\n",
    "        ],\n",
    "        range=[\"#636363\", \"#6baed6\"]\n",
    "        )\n",
    "    ),\n",
    "    tooltip=[\n",
    "        alt.Tooltip(\"Year-Month:N\", title = \"Month and Year\"),\n",
    "        alt.Tooltip(\"restriction_type:N\", title = \"Restriction Type\"),\n",
    "        alt.Tooltip(\"count:Q\", title = \"# of Restrictions\"),\n",
    "    ]\n",
    ").properties(\n",
    "    title=\"# of Speed Restrictions at the Start vs End of the Month\",\n",
    "    width=600,\n",
    "    height=400\n",
    ")\n",
    "\n",
    "stacked_bar.save(\"monthly_restrictions_chart.html\")\n",
    "\n"
   ]
  },
  {
   "cell_type": "code",
   "execution_count": null,
   "id": "b3ff36c5-a759-4dce-a6a4-5f5575b30737",
   "metadata": {},
   "outputs": [],
   "source": []
  }
 ],
 "metadata": {
  "kernelspec": {
   "display_name": "Python 3 (ipykernel)",
   "language": "python",
   "name": "python3"
  },
  "language_info": {
   "codemirror_mode": {
    "name": "ipython",
    "version": 3
   },
   "file_extension": ".py",
   "mimetype": "text/x-python",
   "name": "python",
   "nbconvert_exporter": "python",
   "pygments_lexer": "ipython3",
   "version": "3.11.9"
  }
 },
 "nbformat": 4,
 "nbformat_minor": 5
}
